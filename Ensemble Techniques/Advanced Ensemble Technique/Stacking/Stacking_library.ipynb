{
 "cells": [
  {
   "cell_type": "code",
   "execution_count": 1,
   "id": "06e4d3d3",
   "metadata": {},
   "outputs": [],
   "source": [
    "import pandas as pd\n",
    "import numpy as np\n",
    "from sklearn.tree import DecisionTreeClassifier\n",
    "from sklearn.neighbors import KNeighborsClassifier\n",
    "from sklearn.model_selection import StratifiedKFold\n",
    "from sklearn.svm import SVC\n",
    "from sklearn.ensemble import StackingClassifier"
   ]
  },
  {
   "cell_type": "code",
   "execution_count": 2,
   "id": "b315997e",
   "metadata": {},
   "outputs": [],
   "source": [
    "from sklearn.linear_model import LogisticRegression\n",
    "from sklearn.model_selection import train_test_split\n",
    "from sklearn.preprocessing import StandardScaler"
   ]
  },
  {
   "cell_type": "code",
   "execution_count": 3,
   "id": "b64ecdd5",
   "metadata": {},
   "outputs": [],
   "source": [
    "from sklearn.naive_bayes import GaussianNB\n",
    "from sklearn.model_selection import cross_val_score\n",
    "from sklearn.model_selection import RepeatedStratifiedKFold"
   ]
  },
  {
   "cell_type": "code",
   "execution_count": 4,
   "id": "5f043e84",
   "metadata": {},
   "outputs": [],
   "source": [
    "import matplotlib.pyplot as plt\n",
    "%matplotlib inline"
   ]
  },
  {
   "cell_type": "code",
   "execution_count": 5,
   "id": "ccdc8346",
   "metadata": {},
   "outputs": [],
   "source": [
    "models_listofTuples  = [('lr',LogisticRegression()),\n",
    "           ('knn',KNeighborsClassifier(n_neighbors=35)),\n",
    "           ('decision',DecisionTreeClassifier()),\n",
    "           ('svm_classifier', SVC()),\n",
    "           ('gaussian_nb', GaussianNB())]\n",
    "## used for Stacking"
   ]
  },
  {
   "cell_type": "code",
   "execution_count": 6,
   "id": "2388da76",
   "metadata": {},
   "outputs": [],
   "source": [
    "models_dict  = {'lr':LogisticRegression(),\n",
    "           'knn':KNeighborsClassifier(n_neighbors=35),\n",
    "           'decision':DecisionTreeClassifier(),\n",
    "           'svm_classifier': SVC(),\n",
    "           'gaussian_nb': GaussianNB()\n",
    "          }\n",
    "## used in cross_val_score"
   ]
  },
  {
   "cell_type": "code",
   "execution_count": 7,
   "id": "96b76be7",
   "metadata": {},
   "outputs": [
    {
     "data": {
      "text/html": [
       "<div>\n",
       "<style scoped>\n",
       "    .dataframe tbody tr th:only-of-type {\n",
       "        vertical-align: middle;\n",
       "    }\n",
       "\n",
       "    .dataframe tbody tr th {\n",
       "        vertical-align: top;\n",
       "    }\n",
       "\n",
       "    .dataframe thead th {\n",
       "        text-align: right;\n",
       "    }\n",
       "</style>\n",
       "<table border=\"1\" class=\"dataframe\">\n",
       "  <thead>\n",
       "    <tr style=\"text-align: right;\">\n",
       "      <th></th>\n",
       "      <th>SepalLengthCm</th>\n",
       "      <th>SepalWidthCm</th>\n",
       "      <th>PetalLengthCm</th>\n",
       "      <th>PetalWidthCm</th>\n",
       "      <th>Species</th>\n",
       "    </tr>\n",
       "    <tr>\n",
       "      <th>Id</th>\n",
       "      <th></th>\n",
       "      <th></th>\n",
       "      <th></th>\n",
       "      <th></th>\n",
       "      <th></th>\n",
       "    </tr>\n",
       "  </thead>\n",
       "  <tbody>\n",
       "    <tr>\n",
       "      <th>1</th>\n",
       "      <td>5.1</td>\n",
       "      <td>3.5</td>\n",
       "      <td>1.4</td>\n",
       "      <td>0.2</td>\n",
       "      <td>Iris-setosa</td>\n",
       "    </tr>\n",
       "    <tr>\n",
       "      <th>2</th>\n",
       "      <td>4.9</td>\n",
       "      <td>3.0</td>\n",
       "      <td>1.4</td>\n",
       "      <td>0.2</td>\n",
       "      <td>Iris-setosa</td>\n",
       "    </tr>\n",
       "    <tr>\n",
       "      <th>3</th>\n",
       "      <td>4.7</td>\n",
       "      <td>3.2</td>\n",
       "      <td>1.3</td>\n",
       "      <td>0.2</td>\n",
       "      <td>Iris-setosa</td>\n",
       "    </tr>\n",
       "    <tr>\n",
       "      <th>4</th>\n",
       "      <td>4.6</td>\n",
       "      <td>3.1</td>\n",
       "      <td>1.5</td>\n",
       "      <td>0.2</td>\n",
       "      <td>Iris-setosa</td>\n",
       "    </tr>\n",
       "    <tr>\n",
       "      <th>5</th>\n",
       "      <td>5.0</td>\n",
       "      <td>3.6</td>\n",
       "      <td>1.4</td>\n",
       "      <td>0.2</td>\n",
       "      <td>Iris-setosa</td>\n",
       "    </tr>\n",
       "  </tbody>\n",
       "</table>\n",
       "</div>"
      ],
      "text/plain": [
       "    SepalLengthCm  SepalWidthCm  PetalLengthCm  PetalWidthCm      Species\n",
       "Id                                                                       \n",
       "1             5.1           3.5            1.4           0.2  Iris-setosa\n",
       "2             4.9           3.0            1.4           0.2  Iris-setosa\n",
       "3             4.7           3.2            1.3           0.2  Iris-setosa\n",
       "4             4.6           3.1            1.5           0.2  Iris-setosa\n",
       "5             5.0           3.6            1.4           0.2  Iris-setosa"
      ]
     },
     "execution_count": 7,
     "metadata": {},
     "output_type": "execute_result"
    }
   ],
   "source": [
    "df = pd.read_csv('C:/Users/Lenovo/Documents/Documents/Data_Set/Iris.csv',index_col=['Id'])\n",
    "df.head()"
   ]
  },
  {
   "cell_type": "code",
   "execution_count": 8,
   "id": "5567b9fe",
   "metadata": {},
   "outputs": [
    {
     "data": {
      "text/html": [
       "<div>\n",
       "<style scoped>\n",
       "    .dataframe tbody tr th:only-of-type {\n",
       "        vertical-align: middle;\n",
       "    }\n",
       "\n",
       "    .dataframe tbody tr th {\n",
       "        vertical-align: top;\n",
       "    }\n",
       "\n",
       "    .dataframe thead th {\n",
       "        text-align: right;\n",
       "    }\n",
       "</style>\n",
       "<table border=\"1\" class=\"dataframe\">\n",
       "  <thead>\n",
       "    <tr style=\"text-align: right;\">\n",
       "      <th></th>\n",
       "      <th>SepalLengthCm</th>\n",
       "      <th>SepalWidthCm</th>\n",
       "      <th>PetalLengthCm</th>\n",
       "      <th>PetalWidthCm</th>\n",
       "      <th>Species</th>\n",
       "      <th>Species_ordinal</th>\n",
       "    </tr>\n",
       "    <tr>\n",
       "      <th>Id</th>\n",
       "      <th></th>\n",
       "      <th></th>\n",
       "      <th></th>\n",
       "      <th></th>\n",
       "      <th></th>\n",
       "      <th></th>\n",
       "    </tr>\n",
       "  </thead>\n",
       "  <tbody>\n",
       "    <tr>\n",
       "      <th>1</th>\n",
       "      <td>5.1</td>\n",
       "      <td>3.5</td>\n",
       "      <td>1.4</td>\n",
       "      <td>0.2</td>\n",
       "      <td>Iris-setosa</td>\n",
       "      <td>0</td>\n",
       "    </tr>\n",
       "    <tr>\n",
       "      <th>2</th>\n",
       "      <td>4.9</td>\n",
       "      <td>3.0</td>\n",
       "      <td>1.4</td>\n",
       "      <td>0.2</td>\n",
       "      <td>Iris-setosa</td>\n",
       "      <td>0</td>\n",
       "    </tr>\n",
       "    <tr>\n",
       "      <th>3</th>\n",
       "      <td>4.7</td>\n",
       "      <td>3.2</td>\n",
       "      <td>1.3</td>\n",
       "      <td>0.2</td>\n",
       "      <td>Iris-setosa</td>\n",
       "      <td>0</td>\n",
       "    </tr>\n",
       "    <tr>\n",
       "      <th>4</th>\n",
       "      <td>4.6</td>\n",
       "      <td>3.1</td>\n",
       "      <td>1.5</td>\n",
       "      <td>0.2</td>\n",
       "      <td>Iris-setosa</td>\n",
       "      <td>0</td>\n",
       "    </tr>\n",
       "    <tr>\n",
       "      <th>5</th>\n",
       "      <td>5.0</td>\n",
       "      <td>3.6</td>\n",
       "      <td>1.4</td>\n",
       "      <td>0.2</td>\n",
       "      <td>Iris-setosa</td>\n",
       "      <td>0</td>\n",
       "    </tr>\n",
       "  </tbody>\n",
       "</table>\n",
       "</div>"
      ],
      "text/plain": [
       "    SepalLengthCm  SepalWidthCm  PetalLengthCm  PetalWidthCm      Species  \\\n",
       "Id                                                                          \n",
       "1             5.1           3.5            1.4           0.2  Iris-setosa   \n",
       "2             4.9           3.0            1.4           0.2  Iris-setosa   \n",
       "3             4.7           3.2            1.3           0.2  Iris-setosa   \n",
       "4             4.6           3.1            1.5           0.2  Iris-setosa   \n",
       "5             5.0           3.6            1.4           0.2  Iris-setosa   \n",
       "\n",
       "    Species_ordinal  \n",
       "Id                   \n",
       "1                 0  \n",
       "2                 0  \n",
       "3                 0  \n",
       "4                 0  \n",
       "5                 0  "
      ]
     },
     "execution_count": 8,
     "metadata": {},
     "output_type": "execute_result"
    }
   ],
   "source": [
    "ord_rank = {'Iris-setosa':0, 'Iris-versicolor':1, 'Iris-virginica':2}\n",
    "df['Species_ordinal'] = df['Species'].map(ord_rank)\n",
    "df.head()"
   ]
  },
  {
   "cell_type": "code",
   "execution_count": 9,
   "id": "d73150c5",
   "metadata": {},
   "outputs": [],
   "source": [
    "X = df.iloc[:,:-2]\n",
    "y = df.iloc[:,-1]"
   ]
  },
  {
   "cell_type": "code",
   "execution_count": 10,
   "id": "13d426d4",
   "metadata": {},
   "outputs": [],
   "source": [
    "x_train, x_test, y_train, y_test = train_test_split(X, y, random_state=34, shuffle=True, test_size=0.3)"
   ]
  },
  {
   "cell_type": "code",
   "execution_count": 11,
   "id": "3b903662",
   "metadata": {},
   "outputs": [
    {
     "data": {
      "text/plain": [
       "StackingClassifier(cv=10,\n",
       "                   estimators=[('lr', LogisticRegression()),\n",
       "                               ('knn', KNeighborsClassifier(n_neighbors=35)),\n",
       "                               ('decision', DecisionTreeClassifier()),\n",
       "                               ('svm_classifier', SVC()),\n",
       "                               ('gaussian_nb', GaussianNB())],\n",
       "                   n_jobs=-1)"
      ]
     },
     "execution_count": 11,
     "metadata": {},
     "output_type": "execute_result"
    }
   ],
   "source": [
    "stacking_clf = StackingClassifier(estimators=models_listofTuples, cv=10, n_jobs=-1, )\n",
    "stacking_clf.fit(x_train, y_train)"
   ]
  },
  {
   "cell_type": "code",
   "execution_count": 12,
   "id": "05455ce0",
   "metadata": {},
   "outputs": [
    {
     "data": {
      "text/plain": [
       "0.9777777777777777"
      ]
     },
     "execution_count": 12,
     "metadata": {},
     "output_type": "execute_result"
    }
   ],
   "source": [
    "y_perd = stacking_clf.predict(x_test)\n",
    "stacking_clf.score(x_test, y_test)"
   ]
  },
  {
   "cell_type": "code",
   "execution_count": 13,
   "id": "e09b9aee",
   "metadata": {},
   "outputs": [
    {
     "data": {
      "text/plain": [
       "['predict_proba',\n",
       " 'predict_proba',\n",
       " 'predict_proba',\n",
       " 'decision_function',\n",
       " 'predict_proba']"
      ]
     },
     "execution_count": 13,
     "metadata": {},
     "output_type": "execute_result"
    }
   ],
   "source": [
    "stacking_clf.stack_method_"
   ]
  },
  {
   "cell_type": "code",
   "execution_count": 14,
   "id": "d7d0e301",
   "metadata": {},
   "outputs": [],
   "source": [
    "def evaluate_model(model, X, y):\n",
    "    cv = RepeatedStratifiedKFold(n_repeats=3, n_splits=10, random_state=35)\n",
    "    \n",
    "    scores = cross_val_score(estimator=model, X=X, y=y, scoring='accuracy', cv=cv, n_jobs=-1)\n",
    "    return scores\n",
    "    "
   ]
  },
  {
   "cell_type": "code",
   "execution_count": 15,
   "id": "02b9d92f",
   "metadata": {},
   "outputs": [
    {
     "data": {
      "text/plain": [
       "{'lr': LogisticRegression(),\n",
       " 'knn': KNeighborsClassifier(n_neighbors=35),\n",
       " 'decision': DecisionTreeClassifier(),\n",
       " 'svm_classifier': SVC(),\n",
       " 'gaussian_nb': GaussianNB()}"
      ]
     },
     "execution_count": 15,
     "metadata": {},
     "output_type": "execute_result"
    }
   ],
   "source": [
    "models_dict"
   ]
  },
  {
   "cell_type": "code",
   "execution_count": 16,
   "id": "60666371",
   "metadata": {},
   "outputs": [],
   "source": [
    "\n",
    "result = dict()\n",
    "results = list()\n",
    "for name, model in models_dict.items():\n",
    "    scores = evaluate_model(model, X, y)\n",
    "    result[name] = round(np.mean(scores), 4)\n",
    "    results.append(scores)"
   ]
  },
  {
   "cell_type": "code",
   "execution_count": 17,
   "id": "40a1f2b7",
   "metadata": {},
   "outputs": [
    {
     "data": {
      "text/plain": [
       "{'lr': 0.9578,\n",
       " 'knn': 0.9489,\n",
       " 'decision': 0.9422,\n",
       " 'svm_classifier': 0.9689,\n",
       " 'gaussian_nb': 0.96}"
      ]
     },
     "execution_count": 17,
     "metadata": {},
     "output_type": "execute_result"
    }
   ],
   "source": [
    "result"
   ]
  },
  {
   "cell_type": "code",
   "execution_count": 19,
   "id": "a672941e",
   "metadata": {
    "scrolled": true
   },
   "outputs": [
    {
     "data": {
      "text/plain": [
       "[array([1.        , 1.        , 1.        , 0.86666667, 0.93333333,\n",
       "        0.93333333, 1.        , 1.        , 1.        , 0.86666667,\n",
       "        1.        , 1.        , 1.        , 1.        , 0.93333333,\n",
       "        0.86666667, 1.        , 0.93333333, 0.93333333, 0.93333333,\n",
       "        1.        , 0.93333333, 1.        , 1.        , 0.93333333,\n",
       "        0.93333333, 1.        , 0.93333333, 0.8       , 1.        ]),\n",
       " array([0.93333333, 1.        , 1.        , 0.86666667, 0.93333333,\n",
       "        1.        , 1.        , 1.        , 0.86666667, 0.86666667,\n",
       "        1.        , 1.        , 0.93333333, 1.        , 0.93333333,\n",
       "        0.86666667, 1.        , 0.93333333, 1.        , 0.86666667,\n",
       "        1.        , 0.93333333, 0.93333333, 1.        , 0.93333333,\n",
       "        0.93333333, 1.        , 1.        , 0.73333333, 1.        ]),\n",
       " array([1.        , 1.        , 1.        , 0.86666667, 0.93333333,\n",
       "        0.93333333, 1.        , 1.        , 0.86666667, 0.8       ,\n",
       "        1.        , 1.        , 1.        , 1.        , 0.93333333,\n",
       "        0.86666667, 0.93333333, 0.93333333, 0.93333333, 0.93333333,\n",
       "        0.93333333, 0.93333333, 0.93333333, 1.        , 0.93333333,\n",
       "        0.93333333, 0.93333333, 0.93333333, 0.8       , 1.        ]),\n",
       " array([1.        , 1.        , 1.        , 1.        , 0.93333333,\n",
       "        1.        , 1.        , 1.        , 0.86666667, 0.86666667,\n",
       "        1.        , 1.        , 1.        , 1.        , 1.        ,\n",
       "        0.93333333, 1.        , 0.93333333, 1.        , 0.86666667,\n",
       "        1.        , 1.        , 1.        , 1.        , 0.93333333,\n",
       "        0.93333333, 1.        , 1.        , 0.8       , 1.        ]),\n",
       " array([1.        , 1.        , 1.        , 0.86666667, 0.93333333,\n",
       "        0.93333333, 1.        , 0.93333333, 1.        , 0.93333333,\n",
       "        1.        , 1.        , 1.        , 1.        , 0.93333333,\n",
       "        0.86666667, 0.93333333, 0.93333333, 0.93333333, 1.        ,\n",
       "        1.        , 0.93333333, 0.93333333, 1.        , 0.93333333,\n",
       "        1.        , 1.        , 0.86666667, 0.93333333, 1.        ])]"
      ]
     },
     "execution_count": 19,
     "metadata": {},
     "output_type": "execute_result"
    }
   ],
   "source": [
    "results"
   ]
  },
  {
   "cell_type": "code",
   "execution_count": 20,
   "id": "242cbf73",
   "metadata": {},
   "outputs": [
    {
     "data": {
      "image/png": "[encoded data removed]",
      "text/plain": [
       "<Figure size 432x288 with 1 Axes>"
      ]
     },
     "metadata": {
      "needs_background": "light"
     },
     "output_type": "display_data"
    }
   ],
   "source": [
    "# plot model performance for comparison\n",
    "plt.boxplot(results, labels=list(result.keys()), showmeans=True)\n",
    "plt.show()"
   ]
  },
  {
   "cell_type": "code",
   "execution_count": null,
   "id": "f17c2c23",
   "metadata": {},
   "outputs": [],
   "source": [
    "type(list(result.keys()))"
   ]
  },
  {
   "cell_type": "markdown",
   "id": "9c7fc0ef",
   "metadata": {},
   "source": [
    "## Now let's check indiviual score vs the stacking score"
   ]
  },
  {
   "cell_type": "code",
   "execution_count": 45,
   "id": "9c737007",
   "metadata": {},
   "outputs": [],
   "source": [
    "def get_stacking():\n",
    "    # define the base models\n",
    "    level0 = list()\n",
    "    level0.append(('lr', LogisticRegression()))\n",
    "    level0.append(('knn', KNeighborsClassifier()))\n",
    "    level0.append(('cart', DecisionTreeClassifier()))\n",
    "    level0.append(('svm', SVC()))\n",
    "    level0.append(('bayes', GaussianNB()))\n",
    "    # define meta learner model\n",
    "    level1 = LogisticRegression()\n",
    "    # define the stacking ensemble\n",
    "    \n",
    "    stack_model = StackingClassifier(estimators=level0, final_estimator=level1, cv=10)\n",
    "    models_dict.update({'stacking':stack_model})\n",
    "    return models_dict, model"
   ]
  },
  {
   "cell_type": "code",
   "execution_count": 46,
   "id": "214bc558",
   "metadata": {},
   "outputs": [],
   "source": [
    "def evaluate_model(model, X, y):\n",
    "    cv = RepeatedStratifiedKFold(n_repeats=5, n_splits=10, random_state=35)\n",
    "    scores = cross_val_score(estimator=model, X=X, y=y, scoring='accuracy', cv=cv, n_jobs=-1)\n",
    "    \n",
    "    return scores"
   ]
  },
  {
   "cell_type": "code",
   "execution_count": 50,
   "id": "6afb6590",
   "metadata": {},
   "outputs": [
    {
     "data": {
      "text/plain": [
       "{'lr': LogisticRegression(),\n",
       " 'knn': KNeighborsClassifier(n_neighbors=35),\n",
       " 'decision': DecisionTreeClassifier(),\n",
       " 'svm_classifier': SVC(),\n",
       " 'gaussian_nb': GaussianNB(),\n",
       " 'stacking': StackingClassifier(cv=10,\n",
       "                    estimators=[('lr', LogisticRegression()),\n",
       "                                ('knn', KNeighborsClassifier()),\n",
       "                                ('cart', DecisionTreeClassifier()),\n",
       "                                ('svm', SVC()), ('bayes', GaussianNB())],\n",
       "                    final_estimator=LogisticRegression())}"
      ]
     },
     "execution_count": 50,
     "metadata": {},
     "output_type": "execute_result"
    }
   ],
   "source": [
    "models_dict"
   ]
  },
  {
   "cell_type": "code",
   "execution_count": 52,
   "id": "ddbc2f3f",
   "metadata": {},
   "outputs": [],
   "source": [
    "scores = dict()\n",
    "\n",
    "result = dict()\n",
    "for name, model in models_dict.items():\n",
    "    score = evaluate_model(model, X, y)\n",
    "    scores.update({name: score})\n",
    "    result.update({name:round(np.mean(score),4)})"
   ]
  },
  {
   "cell_type": "code",
   "execution_count": 53,
   "id": "98e218e7",
   "metadata": {},
   "outputs": [
    {
     "data": {
      "text/plain": [
       "{'lr': 0.96,\n",
       " 'knn': 0.9493,\n",
       " 'decision': 0.944,\n",
       " 'svm_classifier': 0.964,\n",
       " 'gaussian_nb': 0.9573,\n",
       " 'stacking': 0.9573}"
      ]
     },
     "execution_count": 53,
     "metadata": {},
     "output_type": "execute_result"
    }
   ],
   "source": [
    "result"
   ]
  },
  {
   "cell_type": "code",
   "execution_count": 55,
   "id": "beb77b64",
   "metadata": {
    "scrolled": true
   },
   "outputs": [
    {
     "data": {
      "text/plain": [
       "{'lr': array([1.        , 1.        , 1.        , 0.86666667, 0.93333333,\n",
       "        0.93333333, 1.        , 1.        , 1.        , 0.86666667,\n",
       "        1.        , 1.        , 1.        , 1.        , 0.93333333,\n",
       "        0.86666667, 1.        , 0.93333333, 0.93333333, 0.93333333,\n",
       "        1.        , 0.93333333, 1.        , 1.        , 0.93333333,\n",
       "        0.93333333, 1.        , 0.93333333, 0.8       , 1.        ,\n",
       "        0.93333333, 1.        , 0.93333333, 1.        , 0.93333333,\n",
       "        1.        , 1.        , 1.        , 1.        , 0.8       ,\n",
       "        1.        , 0.93333333, 1.        , 0.93333333, 1.        ,\n",
       "        1.        , 1.        , 0.86666667, 1.        , 0.93333333]),\n",
       " 'knn': array([0.93333333, 1.        , 1.        , 0.86666667, 0.93333333,\n",
       "        1.        , 1.        , 1.        , 0.86666667, 0.86666667,\n",
       "        1.        , 1.        , 0.93333333, 1.        , 0.93333333,\n",
       "        0.86666667, 1.        , 0.93333333, 1.        , 0.86666667,\n",
       "        1.        , 0.93333333, 0.93333333, 1.        , 0.93333333,\n",
       "        0.93333333, 1.        , 1.        , 0.73333333, 1.        ,\n",
       "        1.        , 1.        , 0.93333333, 1.        , 0.93333333,\n",
       "        0.93333333, 0.93333333, 1.        , 1.        , 0.8       ,\n",
       "        1.        , 0.86666667, 1.        , 0.86666667, 1.        ,\n",
       "        1.        , 0.93333333, 0.86666667, 1.        , 0.93333333]),\n",
       " 'decision': array([1.        , 1.        , 1.        , 0.86666667, 0.93333333,\n",
       "        0.93333333, 0.93333333, 1.        , 0.86666667, 0.8       ,\n",
       "        1.        , 1.        , 1.        , 1.        , 0.93333333,\n",
       "        0.86666667, 0.93333333, 0.93333333, 0.93333333, 0.93333333,\n",
       "        1.        , 0.93333333, 0.93333333, 1.        , 0.93333333,\n",
       "        0.93333333, 0.93333333, 0.93333333, 0.8       , 1.        ,\n",
       "        0.93333333, 1.        , 0.93333333, 1.        , 0.93333333,\n",
       "        1.        , 1.        , 0.86666667, 0.93333333, 0.93333333,\n",
       "        0.86666667, 0.93333333, 1.        , 0.93333333, 0.93333333,\n",
       "        1.        , 0.93333333, 0.86666667, 1.        , 0.93333333]),\n",
       " 'svm_classifier': array([1.        , 1.        , 1.        , 1.        , 0.93333333,\n",
       "        1.        , 1.        , 1.        , 0.86666667, 0.86666667,\n",
       "        1.        , 1.        , 1.        , 1.        , 1.        ,\n",
       "        0.93333333, 1.        , 0.93333333, 1.        , 0.86666667,\n",
       "        1.        , 1.        , 1.        , 1.        , 0.93333333,\n",
       "        0.93333333, 1.        , 1.        , 0.8       , 1.        ,\n",
       "        0.93333333, 1.        , 1.        , 1.        , 0.93333333,\n",
       "        1.        , 0.93333333, 1.        , 1.        , 0.8       ,\n",
       "        0.93333333, 0.93333333, 1.        , 0.93333333, 1.        ,\n",
       "        1.        , 0.93333333, 0.86666667, 1.        , 0.93333333]),\n",
       " 'gaussian_nb': array([1.        , 1.        , 1.        , 0.86666667, 0.93333333,\n",
       "        0.93333333, 1.        , 0.93333333, 1.        , 0.93333333,\n",
       "        1.        , 1.        , 1.        , 1.        , 0.93333333,\n",
       "        0.86666667, 0.93333333, 0.93333333, 0.93333333, 1.        ,\n",
       "        1.        , 0.93333333, 0.93333333, 1.        , 0.93333333,\n",
       "        1.        , 1.        , 0.86666667, 0.93333333, 1.        ,\n",
       "        0.93333333, 1.        , 0.93333333, 1.        , 1.        ,\n",
       "        1.        , 0.93333333, 0.93333333, 0.93333333, 0.86666667,\n",
       "        1.        , 0.93333333, 1.        , 0.8       , 1.        ,\n",
       "        1.        , 1.        , 0.86666667, 1.        , 0.93333333]),\n",
       " 'stacking': array([1.        , 1.        , 1.        , 0.86666667, 0.93333333,\n",
       "        0.93333333, 1.        , 1.        , 0.86666667, 0.86666667,\n",
       "        1.        , 1.        , 1.        , 1.        , 0.93333333,\n",
       "        0.86666667, 1.        , 0.93333333, 0.93333333, 0.93333333,\n",
       "        1.        , 0.93333333, 1.        , 1.        , 0.93333333,\n",
       "        0.93333333, 1.        , 0.93333333, 0.86666667, 1.        ,\n",
       "        0.93333333, 1.        , 0.93333333, 1.        , 0.93333333,\n",
       "        1.        , 1.        , 1.        , 1.        , 0.86666667,\n",
       "        0.93333333, 0.93333333, 1.        , 0.93333333, 1.        ,\n",
       "        1.        , 0.93333333, 0.86666667, 1.        , 0.93333333])}"
      ]
     },
     "execution_count": 55,
     "metadata": {},
     "output_type": "execute_result"
    }
   ],
   "source": [
    "scores"
   ]
  },
  {
   "cell_type": "code",
   "execution_count": null,
   "id": "b5acba80",
   "metadata": {},
   "outputs": [],
   "source": []
  },
  {
   "cell_type": "code",
   "execution_count": 56,
   "id": "8822d2bb",
   "metadata": {},
   "outputs": [
    {
     "data": {
      "image/png": "[encoded data removed]",
      "text/plain": [
       "<Figure size 432x288 with 1 Axes>"
      ]
     },
     "metadata": {
      "needs_background": "light"
     },
     "output_type": "display_data"
    }
   ],
   "source": [
    "plt.boxplot(scores.values(), labels=list(scores.keys()), showmeans=True)\n",
    "plt.show()"
   ]
  },
  {
   "cell_type": "code",
   "execution_count": 57,
   "id": "550fc541",
   "metadata": {},
   "outputs": [
    {
     "data": {
      "text/plain": [
       "{'lr': LogisticRegression(),\n",
       " 'knn': KNeighborsClassifier(n_neighbors=35),\n",
       " 'decision': DecisionTreeClassifier(),\n",
       " 'svm_classifier': SVC(),\n",
       " 'gaussian_nb': GaussianNB(),\n",
       " 'stacking': StackingClassifier(cv=10,\n",
       "                    estimators=[('lr', LogisticRegression()),\n",
       "                                ('knn', KNeighborsClassifier()),\n",
       "                                ('cart', DecisionTreeClassifier()),\n",
       "                                ('svm', SVC()), ('bayes', GaussianNB())],\n",
       "                    final_estimator=LogisticRegression())}"
      ]
     },
     "execution_count": 57,
     "metadata": {},
     "output_type": "execute_result"
    }
   ],
   "source": [
    "get_stacking()[0]"
   ]
  },
  {
   "cell_type": "code",
   "execution_count": 58,
   "id": "f46bc89e",
   "metadata": {},
   "outputs": [
    {
     "data": {
      "text/plain": [
       "StackingClassifier(cv=10,\n",
       "                   estimators=[('lr', LogisticRegression()),\n",
       "                               ('knn', KNeighborsClassifier()),\n",
       "                               ('cart', DecisionTreeClassifier()),\n",
       "                               ('svm', SVC()), ('bayes', GaussianNB())],\n",
       "                   final_estimator=LogisticRegression())"
      ]
     },
     "execution_count": 58,
     "metadata": {},
     "output_type": "execute_result"
    }
   ],
   "source": [
    "get_stacking()[1]"
   ]
  },
  {
   "cell_type": "code",
   "execution_count": 60,
   "id": "74c291d1",
   "metadata": {},
   "outputs": [
    {
     "data": {
      "text/plain": [
       "{'lr': 0.96,\n",
       " 'knn': 0.9493,\n",
       " 'decision': 0.944,\n",
       " 'svm_classifier': 0.964,\n",
       " 'gaussian_nb': 0.9573,\n",
       " 'stacking': 0.9573}"
      ]
     },
     "execution_count": 60,
     "metadata": {},
     "output_type": "execute_result"
    }
   ],
   "source": [
    "result"
   ]
  },
  {
   "cell_type": "code",
   "execution_count": null,
   "id": "5cea32a3",
   "metadata": {},
   "outputs": [],
   "source": []
  }
 ],
 "metadata": {
  "kernelspec": {
   "display_name": "Python 3",
   "language": "python",
   "name": "python3"
  },
  "language_info": {
   "codemirror_mode": {
    "name": "ipython",
    "version": 3
   },
   "file_extension": ".py",
   "mimetype": "text/x-python",
   "name": "python",
   "nbconvert_exporter": "python",
   "pygments_lexer": "ipython3",
   "version": "3.8.8"
  }
 },
 "nbformat": 4,
 "nbformat_minor": 5
}
