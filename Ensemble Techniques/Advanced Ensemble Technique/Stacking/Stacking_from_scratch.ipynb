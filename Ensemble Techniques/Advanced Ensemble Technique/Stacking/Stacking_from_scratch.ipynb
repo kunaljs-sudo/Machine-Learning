{
 "cells": [
  {
   "cell_type": "code",
   "execution_count": 1,
   "id": "bc3dd200",
   "metadata": {},
   "outputs": [],
   "source": [
    "import pandas as pd\n",
    "import numpy as np\n",
    "from sklearn.tree import DecisionTreeClassifier\n",
    "from sklearn.neighbors import KNeighborsClassifier\n",
    "from matplotlib import pyplot as plt\n",
    "%matplotlib inline\n",
    "import seaborn as sns\n",
    "from sklearn.model_selection import StratifiedKFold"
   ]
  },
  {
   "cell_type": "code",
   "execution_count": 2,
   "id": "ae9315e6",
   "metadata": {},
   "outputs": [],
   "source": [
    "from sklearn.linear_model import LogisticRegression\n",
    "from sklearn.model_selection import train_test_split\n",
    "from sklearn.preprocessing import StandardScaler"
   ]
  },
  {
   "cell_type": "code",
   "execution_count": 3,
   "id": "14301c51",
   "metadata": {},
   "outputs": [],
   "source": [
    "import math"
   ]
  },
  {
   "cell_type": "code",
   "execution_count": 4,
   "id": "ff72945c",
   "metadata": {},
   "outputs": [
    {
     "data": {
      "text/html": [
       "<div>\n",
       "<style scoped>\n",
       "    .dataframe tbody tr th:only-of-type {\n",
       "        vertical-align: middle;\n",
       "    }\n",
       "\n",
       "    .dataframe tbody tr th {\n",
       "        vertical-align: top;\n",
       "    }\n",
       "\n",
       "    .dataframe thead th {\n",
       "        text-align: right;\n",
       "    }\n",
       "</style>\n",
       "<table border=\"1\" class=\"dataframe\">\n",
       "  <thead>\n",
       "    <tr style=\"text-align: right;\">\n",
       "      <th></th>\n",
       "      <th>SepalLengthCm</th>\n",
       "      <th>SepalWidthCm</th>\n",
       "      <th>PetalLengthCm</th>\n",
       "      <th>PetalWidthCm</th>\n",
       "      <th>Species</th>\n",
       "    </tr>\n",
       "    <tr>\n",
       "      <th>Id</th>\n",
       "      <th></th>\n",
       "      <th></th>\n",
       "      <th></th>\n",
       "      <th></th>\n",
       "      <th></th>\n",
       "    </tr>\n",
       "  </thead>\n",
       "  <tbody>\n",
       "    <tr>\n",
       "      <th>1</th>\n",
       "      <td>5.1</td>\n",
       "      <td>3.5</td>\n",
       "      <td>1.4</td>\n",
       "      <td>0.2</td>\n",
       "      <td>Iris-setosa</td>\n",
       "    </tr>\n",
       "    <tr>\n",
       "      <th>2</th>\n",
       "      <td>4.9</td>\n",
       "      <td>3.0</td>\n",
       "      <td>1.4</td>\n",
       "      <td>0.2</td>\n",
       "      <td>Iris-setosa</td>\n",
       "    </tr>\n",
       "    <tr>\n",
       "      <th>3</th>\n",
       "      <td>4.7</td>\n",
       "      <td>3.2</td>\n",
       "      <td>1.3</td>\n",
       "      <td>0.2</td>\n",
       "      <td>Iris-setosa</td>\n",
       "    </tr>\n",
       "    <tr>\n",
       "      <th>4</th>\n",
       "      <td>4.6</td>\n",
       "      <td>3.1</td>\n",
       "      <td>1.5</td>\n",
       "      <td>0.2</td>\n",
       "      <td>Iris-setosa</td>\n",
       "    </tr>\n",
       "    <tr>\n",
       "      <th>5</th>\n",
       "      <td>5.0</td>\n",
       "      <td>3.6</td>\n",
       "      <td>1.4</td>\n",
       "      <td>0.2</td>\n",
       "      <td>Iris-setosa</td>\n",
       "    </tr>\n",
       "  </tbody>\n",
       "</table>\n",
       "</div>"
      ],
      "text/plain": [
       "    SepalLengthCm  SepalWidthCm  PetalLengthCm  PetalWidthCm      Species\n",
       "Id                                                                       \n",
       "1             5.1           3.5            1.4           0.2  Iris-setosa\n",
       "2             4.9           3.0            1.4           0.2  Iris-setosa\n",
       "3             4.7           3.2            1.3           0.2  Iris-setosa\n",
       "4             4.6           3.1            1.5           0.2  Iris-setosa\n",
       "5             5.0           3.6            1.4           0.2  Iris-setosa"
      ]
     },
     "execution_count": 4,
     "metadata": {},
     "output_type": "execute_result"
    }
   ],
   "source": [
    "df = pd.read_csv('C:/Users/Lenovo/Documents/Documents/Data_Set/Iris.csv',index_col=['Id'])\n",
    "df.head()"
   ]
  },
  {
   "cell_type": "code",
   "execution_count": 5,
   "id": "cea2bbc1",
   "metadata": {},
   "outputs": [
    {
     "data": {
      "text/html": [
       "<div>\n",
       "<style scoped>\n",
       "    .dataframe tbody tr th:only-of-type {\n",
       "        vertical-align: middle;\n",
       "    }\n",
       "\n",
       "    .dataframe tbody tr th {\n",
       "        vertical-align: top;\n",
       "    }\n",
       "\n",
       "    .dataframe thead th {\n",
       "        text-align: right;\n",
       "    }\n",
       "</style>\n",
       "<table border=\"1\" class=\"dataframe\">\n",
       "  <thead>\n",
       "    <tr style=\"text-align: right;\">\n",
       "      <th></th>\n",
       "      <th>SepalLengthCm</th>\n",
       "      <th>SepalWidthCm</th>\n",
       "      <th>PetalLengthCm</th>\n",
       "      <th>PetalWidthCm</th>\n",
       "      <th>Species</th>\n",
       "      <th>Species_ordinal</th>\n",
       "    </tr>\n",
       "    <tr>\n",
       "      <th>Id</th>\n",
       "      <th></th>\n",
       "      <th></th>\n",
       "      <th></th>\n",
       "      <th></th>\n",
       "      <th></th>\n",
       "      <th></th>\n",
       "    </tr>\n",
       "  </thead>\n",
       "  <tbody>\n",
       "    <tr>\n",
       "      <th>1</th>\n",
       "      <td>5.1</td>\n",
       "      <td>3.5</td>\n",
       "      <td>1.4</td>\n",
       "      <td>0.2</td>\n",
       "      <td>Iris-setosa</td>\n",
       "      <td>0</td>\n",
       "    </tr>\n",
       "    <tr>\n",
       "      <th>2</th>\n",
       "      <td>4.9</td>\n",
       "      <td>3.0</td>\n",
       "      <td>1.4</td>\n",
       "      <td>0.2</td>\n",
       "      <td>Iris-setosa</td>\n",
       "      <td>0</td>\n",
       "    </tr>\n",
       "    <tr>\n",
       "      <th>3</th>\n",
       "      <td>4.7</td>\n",
       "      <td>3.2</td>\n",
       "      <td>1.3</td>\n",
       "      <td>0.2</td>\n",
       "      <td>Iris-setosa</td>\n",
       "      <td>0</td>\n",
       "    </tr>\n",
       "    <tr>\n",
       "      <th>4</th>\n",
       "      <td>4.6</td>\n",
       "      <td>3.1</td>\n",
       "      <td>1.5</td>\n",
       "      <td>0.2</td>\n",
       "      <td>Iris-setosa</td>\n",
       "      <td>0</td>\n",
       "    </tr>\n",
       "    <tr>\n",
       "      <th>5</th>\n",
       "      <td>5.0</td>\n",
       "      <td>3.6</td>\n",
       "      <td>1.4</td>\n",
       "      <td>0.2</td>\n",
       "      <td>Iris-setosa</td>\n",
       "      <td>0</td>\n",
       "    </tr>\n",
       "  </tbody>\n",
       "</table>\n",
       "</div>"
      ],
      "text/plain": [
       "    SepalLengthCm  SepalWidthCm  PetalLengthCm  PetalWidthCm      Species  \\\n",
       "Id                                                                          \n",
       "1             5.1           3.5            1.4           0.2  Iris-setosa   \n",
       "2             4.9           3.0            1.4           0.2  Iris-setosa   \n",
       "3             4.7           3.2            1.3           0.2  Iris-setosa   \n",
       "4             4.6           3.1            1.5           0.2  Iris-setosa   \n",
       "5             5.0           3.6            1.4           0.2  Iris-setosa   \n",
       "\n",
       "    Species_ordinal  \n",
       "Id                   \n",
       "1                 0  \n",
       "2                 0  \n",
       "3                 0  \n",
       "4                 0  \n",
       "5                 0  "
      ]
     },
     "execution_count": 5,
     "metadata": {},
     "output_type": "execute_result"
    }
   ],
   "source": [
    "ord_rank = {'Iris-setosa':0, 'Iris-versicolor':1, 'Iris-virginica':2}\n",
    "df['Species_ordinal'] = df['Species'].map(ord_rank)\n",
    "df.head()"
   ]
  },
  {
   "cell_type": "code",
   "execution_count": 6,
   "id": "a9a7ddb4",
   "metadata": {},
   "outputs": [],
   "source": [
    "X = df.iloc[:,:-2]\n",
    "y = df.iloc[:,-1]"
   ]
  },
  {
   "cell_type": "code",
   "execution_count": 7,
   "id": "0e981113",
   "metadata": {},
   "outputs": [
    {
     "name": "stdout",
     "output_type": "stream",
     "text": [
      "    SepalLengthCm  SepalWidthCm  PetalLengthCm  PetalWidthCm\n",
      "Id                                                          \n",
      "1             5.1           3.5            1.4           0.2\n",
      "2             4.9           3.0            1.4           0.2\n",
      "3             4.7           3.2            1.3           0.2\n",
      "4             4.6           3.1            1.5           0.2\n",
      "5             5.0           3.6            1.4           0.2\n",
      "Id\n",
      "1    0\n",
      "2    0\n",
      "3    0\n",
      "4    0\n",
      "5    0\n",
      "Name: Species_ordinal, dtype: int64\n"
     ]
    }
   ],
   "source": [
    "print(X.head())\n",
    "print(y.head())"
   ]
  },
  {
   "cell_type": "code",
   "execution_count": 8,
   "id": "513f3379",
   "metadata": {},
   "outputs": [],
   "source": [
    "std = StandardScaler()\n",
    "X = std.fit_transform(X)"
   ]
  },
  {
   "cell_type": "code",
   "execution_count": 9,
   "id": "b922ab96",
   "metadata": {},
   "outputs": [],
   "source": [
    "x_train, x_test, y_train, y_test = train_test_split(X,y,random_state=23, test_size=0.3)\n",
    "def toDataFrame(X):\n",
    "    return pd.DataFrame(X)\n",
    "x_train = toDataFrame(x_train)\n",
    "x_test = toDataFrame(x_test)\n",
    "y_train = toDataFrame(y_train)\n",
    "y_test = toDataFrame(y_test)"
   ]
  },
  {
   "cell_type": "code",
   "execution_count": 10,
   "id": "e300222e",
   "metadata": {},
   "outputs": [
    {
     "data": {
      "text/plain": [
       "(105, 4)"
      ]
     },
     "execution_count": 10,
     "metadata": {},
     "output_type": "execute_result"
    }
   ],
   "source": [
    "x_train.shape"
   ]
  },
  {
   "cell_type": "code",
   "execution_count": 11,
   "id": "a9fa56bd",
   "metadata": {},
   "outputs": [],
   "source": [
    "def flatten_list(_2d_list):\n",
    "    flat_list = []\n",
    "    # Iterate through the outer list\n",
    "    for element in _2d_list:\n",
    "        if type(element) is list:\n",
    "            # If the element is of type list, iterate through the sublist\n",
    "            for item in element:\n",
    "                flat_list.append(item)\n",
    "        else:\n",
    "            flat_list.append(element)\n",
    "    return flat_list"
   ]
  },
  {
   "cell_type": "code",
   "execution_count": 12,
   "id": "6175d4cc",
   "metadata": {},
   "outputs": [],
   "source": [
    "def Stacking(model,x_train, x_test, y_test,y_train, nfold):\n",
    "    folds = StratifiedKFold(n_splits=nfold,shuffle=True, random_state=23)\n",
    "    test_pred = list()\n",
    "    \n",
    "    train_pred = list()\n",
    "    \n",
    "    y_train_pred = list()\n",
    "    #here we do not need Y-test-pred because we using same x_test to predict y\n",
    "   # y_test_pred = list()\n",
    "    \n",
    "    for train_indices, val_indices in folds.split(x_train, y_train.values):\n",
    "        \n",
    "        x_train_ = x_train.iloc[list(train_indices),:] \n",
    "        x_val = x_train.iloc[list(val_indices),:]\n",
    "        y_train_ = y_train.iloc[train_indices]\n",
    "        y_val = y_train.iloc[val_indices]\n",
    "        \n",
    "        model.fit(x_train_, y_train_.values.ravel())\n",
    "        #print('Y Train',y_train_.values.ravel().shape)\n",
    "        #print('X Train',x_train_.shape)\n",
    "        #print(list(model.predict(x_val)))\n",
    "        train_pred.extend(list(model.predict(x_val).ravel()))\n",
    "        #dd the predicted model which is list of shape x_test.shape to \n",
    "        #o test_pred \n",
    "        test_pred.append(list(model.predict(x_test).ravel()))      \n",
    "        y_train_pred.extend(list(y_val.values.ravel()))\n",
    "        \n",
    "        #now test_pred is of size  (nfold, x_test.shape[0])\n",
    "        #since columns in test_pred contain the predicted values by \n",
    "        #by different k-values from k-flod so we need to take mean of each column \n",
    "        # so as to get mean value in each column of the nfold results\n",
    "        #so here mean are from each column\n",
    "    \n",
    "    return train_pred, np.array(pd.DataFrame(np.array(test_pred)).apply(lambda x: math.floor(np.mean(x)))), y_train_pred\n",
    "    "
   ]
  },
  {
   "cell_type": "code",
   "execution_count": 13,
   "id": "dcbc18ad",
   "metadata": {},
   "outputs": [
    {
     "data": {
      "text/plain": [
       "(150, 4)"
      ]
     },
     "execution_count": 13,
     "metadata": {},
     "output_type": "execute_result"
    }
   ],
   "source": [
    "X.shape"
   ]
  },
  {
   "cell_type": "markdown",
   "id": "36eb8a32",
   "metadata": {},
   "source": [
    "## Model 1 Decision Tree"
   ]
  },
  {
   "cell_type": "code",
   "execution_count": 14,
   "id": "2e25ef77",
   "metadata": {
    "scrolled": true
   },
   "outputs": [],
   "source": [
    "model_decision = DecisionTreeClassifier()\n",
    "train_pred1, test_pred1, y_train_pred1 = Stacking(model=model_decision, x_train=x_train, x_test=x_test, y_train=y_train, y_test=y_test,nfold=10)"
   ]
  },
  {
   "cell_type": "code",
   "execution_count": 15,
   "id": "3e6bcbab",
   "metadata": {
    "scrolled": true
   },
   "outputs": [
    {
     "name": "stdout",
     "output_type": "stream",
     "text": [
      "105\n"
     ]
    }
   ],
   "source": [
    "print(len(train_pred1))"
   ]
  },
  {
   "cell_type": "code",
   "execution_count": 16,
   "id": "5a2c136f",
   "metadata": {},
   "outputs": [
    {
     "data": {
      "text/plain": [
       "(105, 4)"
      ]
     },
     "execution_count": 16,
     "metadata": {},
     "output_type": "execute_result"
    }
   ],
   "source": [
    "x_train.shape"
   ]
  },
  {
   "cell_type": "code",
   "execution_count": 17,
   "id": "9a009116",
   "metadata": {},
   "outputs": [
    {
     "data": {
      "text/plain": [
       "array([2, 2, 1, 0, 2, 1, 0, 2, 0, 1, 1, 0, 2, 0, 0, 1, 1, 1, 2, 0, 2, 0,\n",
       "       0, 0, 2, 0, 0, 1, 1, 1, 0, 1, 0, 2, 0, 0, 1, 1, 1, 2, 2, 0, 1, 0,\n",
       "       1], dtype=int64)"
      ]
     },
     "execution_count": 17,
     "metadata": {},
     "output_type": "execute_result"
    }
   ],
   "source": [
    "test_pred1"
   ]
  },
  {
   "cell_type": "code",
   "execution_count": 18,
   "id": "c292e90f",
   "metadata": {
    "scrolled": true
   },
   "outputs": [
    {
     "ename": "NameError",
     "evalue": "name 'a' is not defined",
     "output_type": "error",
     "traceback": [
      "\u001b[1;31m---------------------------------------------------------------------------\u001b[0m",
      "\u001b[1;31mNameError\u001b[0m                                 Traceback (most recent call last)",
      "\u001b[1;32m<ipython-input-18-6e01de48dd56>\u001b[0m in \u001b[0;36m<module>\u001b[1;34m\u001b[0m\n\u001b[1;32m----> 1\u001b[1;33m \u001b[0mtoDataFrame\u001b[0m\u001b[1;33m(\u001b[0m\u001b[0mnp\u001b[0m\u001b[1;33m.\u001b[0m\u001b[0marray\u001b[0m\u001b[1;33m(\u001b[0m\u001b[0ma\u001b[0m\u001b[1;33m)\u001b[0m\u001b[1;33m)\u001b[0m\u001b[1;33m.\u001b[0m\u001b[0mapply\u001b[0m\u001b[1;33m(\u001b[0m\u001b[1;32mlambda\u001b[0m \u001b[0mx\u001b[0m\u001b[1;33m:\u001b[0m \u001b[0mmath\u001b[0m\u001b[1;33m.\u001b[0m\u001b[0mfloor\u001b[0m\u001b[1;33m(\u001b[0m\u001b[0mnp\u001b[0m\u001b[1;33m.\u001b[0m\u001b[0mmean\u001b[0m\u001b[1;33m(\u001b[0m\u001b[0mx\u001b[0m\u001b[1;33m)\u001b[0m\u001b[1;33m)\u001b[0m\u001b[1;33m)\u001b[0m\u001b[1;33m\u001b[0m\u001b[1;33m\u001b[0m\u001b[0m\n\u001b[0m\u001b[0;32m      2\u001b[0m \u001b[1;31m# here I have combine 10 or nfold test result output mean from 10 results of datasize x_test.shape\u001b[0m\u001b[1;33m\u001b[0m\u001b[1;33m\u001b[0m\u001b[1;33m\u001b[0m\u001b[0m\n",
      "\u001b[1;31mNameError\u001b[0m: name 'a' is not defined"
     ]
    }
   ],
   "source": [
    "toDataFrame(np.array(a)).apply(lambda x: math.floor(np.mean(x)))\n",
    "# here I have combine 10 or nfold test result output mean from 10 results of datasize x_test.shape"
   ]
  },
  {
   "cell_type": "code",
   "execution_count": null,
   "id": "fdab0f9c",
   "metadata": {},
   "outputs": [],
   "source": [
    "print(x_test.shape)\n",
    "print(test_pred1.shape)\n",
    "print(x_train.shape)\n",
    "print('X_train_pred',len(train_pred1))\n",
    "print('Y_train_pred',len(y_train_pred1))\n"
   ]
  },
  {
   "cell_type": "markdown",
   "id": "e35ce891",
   "metadata": {},
   "source": [
    "## Model 2 KNN"
   ]
  },
  {
   "cell_type": "code",
   "execution_count": 19,
   "id": "36e5b8eb",
   "metadata": {},
   "outputs": [],
   "source": [
    "model_knn = KNeighborsClassifier(n_neighbors=35)\n",
    "train_pred2, test_pred2, y_train_pred2 = Stacking(model_knn, x_train, x_test, y_test, y_train, 10)"
   ]
  },
  {
   "cell_type": "code",
   "execution_count": 20,
   "id": "a507e0ce",
   "metadata": {},
   "outputs": [
    {
     "name": "stdout",
     "output_type": "stream",
     "text": [
      "(45, 4)\n",
      "(45,)\n",
      "(105, 4)\n",
      "X_train_pred 105\n",
      "Y_train_pred 105\n"
     ]
    }
   ],
   "source": [
    "print(x_test.shape)\n",
    "print(test_pred2.shape)\n",
    "print(x_train.shape)\n",
    "print('X_train_pred',len(train_pred2))\n",
    "print('Y_train_pred',len(y_train_pred2))\n",
    "# here y_train_pred is validated nfolds indices of kfold method"
   ]
  },
  {
   "cell_type": "code",
   "execution_count": 21,
   "id": "b282becd",
   "metadata": {},
   "outputs": [],
   "source": [
    "train_pred1 = pd.DataFrame(train_pred1)\n",
    "train_pred2 = pd.DataFrame(train_pred2)"
   ]
  },
  {
   "cell_type": "code",
   "execution_count": 22,
   "id": "40baf5aa",
   "metadata": {},
   "outputs": [],
   "source": [
    "test_pred1 = pd.DataFrame(test_pred1)\n",
    "test_pred2 = pd.DataFrame(test_pred2)"
   ]
  },
  {
   "cell_type": "code",
   "execution_count": 23,
   "id": "67236dff",
   "metadata": {},
   "outputs": [
    {
     "data": {
      "text/html": [
       "<div>\n",
       "<style scoped>\n",
       "    .dataframe tbody tr th:only-of-type {\n",
       "        vertical-align: middle;\n",
       "    }\n",
       "\n",
       "    .dataframe tbody tr th {\n",
       "        vertical-align: top;\n",
       "    }\n",
       "\n",
       "    .dataframe thead th {\n",
       "        text-align: right;\n",
       "    }\n",
       "</style>\n",
       "<table border=\"1\" class=\"dataframe\">\n",
       "  <thead>\n",
       "    <tr style=\"text-align: right;\">\n",
       "      <th></th>\n",
       "      <th>0</th>\n",
       "    </tr>\n",
       "  </thead>\n",
       "  <tbody>\n",
       "    <tr>\n",
       "      <th>0</th>\n",
       "      <td>1</td>\n",
       "    </tr>\n",
       "    <tr>\n",
       "      <th>1</th>\n",
       "      <td>0</td>\n",
       "    </tr>\n",
       "    <tr>\n",
       "      <th>2</th>\n",
       "      <td>2</td>\n",
       "    </tr>\n",
       "    <tr>\n",
       "      <th>3</th>\n",
       "      <td>2</td>\n",
       "    </tr>\n",
       "    <tr>\n",
       "      <th>4</th>\n",
       "      <td>1</td>\n",
       "    </tr>\n",
       "  </tbody>\n",
       "</table>\n",
       "</div>"
      ],
      "text/plain": [
       "   0\n",
       "0  1\n",
       "1  0\n",
       "2  2\n",
       "3  2\n",
       "4  1"
      ]
     },
     "execution_count": 23,
     "metadata": {},
     "output_type": "execute_result"
    }
   ],
   "source": [
    "train_pred1.head()\n"
   ]
  },
  {
   "cell_type": "code",
   "execution_count": 24,
   "id": "800d75c0",
   "metadata": {},
   "outputs": [
    {
     "data": {
      "text/html": [
       "<div>\n",
       "<style scoped>\n",
       "    .dataframe tbody tr th:only-of-type {\n",
       "        vertical-align: middle;\n",
       "    }\n",
       "\n",
       "    .dataframe tbody tr th {\n",
       "        vertical-align: top;\n",
       "    }\n",
       "\n",
       "    .dataframe thead th {\n",
       "        text-align: right;\n",
       "    }\n",
       "</style>\n",
       "<table border=\"1\" class=\"dataframe\">\n",
       "  <thead>\n",
       "    <tr style=\"text-align: right;\">\n",
       "      <th></th>\n",
       "      <th>0</th>\n",
       "    </tr>\n",
       "  </thead>\n",
       "  <tbody>\n",
       "    <tr>\n",
       "      <th>0</th>\n",
       "      <td>1</td>\n",
       "    </tr>\n",
       "    <tr>\n",
       "      <th>1</th>\n",
       "      <td>0</td>\n",
       "    </tr>\n",
       "    <tr>\n",
       "      <th>2</th>\n",
       "      <td>2</td>\n",
       "    </tr>\n",
       "    <tr>\n",
       "      <th>3</th>\n",
       "      <td>2</td>\n",
       "    </tr>\n",
       "    <tr>\n",
       "      <th>4</th>\n",
       "      <td>1</td>\n",
       "    </tr>\n",
       "  </tbody>\n",
       "</table>\n",
       "</div>"
      ],
      "text/plain": [
       "   0\n",
       "0  1\n",
       "1  0\n",
       "2  2\n",
       "3  2\n",
       "4  1"
      ]
     },
     "execution_count": 24,
     "metadata": {},
     "output_type": "execute_result"
    }
   ],
   "source": [
    "train_pred2.head()"
   ]
  },
  {
   "cell_type": "code",
   "execution_count": 25,
   "id": "fa2fd597",
   "metadata": {},
   "outputs": [
    {
     "data": {
      "text/html": [
       "<div>\n",
       "<style scoped>\n",
       "    .dataframe tbody tr th:only-of-type {\n",
       "        vertical-align: middle;\n",
       "    }\n",
       "\n",
       "    .dataframe tbody tr th {\n",
       "        vertical-align: top;\n",
       "    }\n",
       "\n",
       "    .dataframe thead th {\n",
       "        text-align: right;\n",
       "    }\n",
       "</style>\n",
       "<table border=\"1\" class=\"dataframe\">\n",
       "  <thead>\n",
       "    <tr style=\"text-align: right;\">\n",
       "      <th></th>\n",
       "      <th>0</th>\n",
       "      <th>0</th>\n",
       "    </tr>\n",
       "  </thead>\n",
       "  <tbody>\n",
       "    <tr>\n",
       "      <th>0</th>\n",
       "      <td>1</td>\n",
       "      <td>1</td>\n",
       "    </tr>\n",
       "    <tr>\n",
       "      <th>1</th>\n",
       "      <td>0</td>\n",
       "      <td>0</td>\n",
       "    </tr>\n",
       "    <tr>\n",
       "      <th>2</th>\n",
       "      <td>2</td>\n",
       "      <td>2</td>\n",
       "    </tr>\n",
       "    <tr>\n",
       "      <th>3</th>\n",
       "      <td>2</td>\n",
       "      <td>2</td>\n",
       "    </tr>\n",
       "    <tr>\n",
       "      <th>4</th>\n",
       "      <td>1</td>\n",
       "      <td>1</td>\n",
       "    </tr>\n",
       "  </tbody>\n",
       "</table>\n",
       "</div>"
      ],
      "text/plain": [
       "   0  0\n",
       "0  1  1\n",
       "1  0  0\n",
       "2  2  2\n",
       "3  2  2\n",
       "4  1  1"
      ]
     },
     "execution_count": 25,
     "metadata": {},
     "output_type": "execute_result"
    }
   ],
   "source": [
    "x_train_predicted_stacked = pd.concat([train_pred1,train_pred2], axis=1)\n",
    "x_train_predicted_stacked.head()"
   ]
  },
  {
   "cell_type": "code",
   "execution_count": 26,
   "id": "c75c071d",
   "metadata": {},
   "outputs": [
    {
     "data": {
      "text/html": [
       "<div>\n",
       "<style scoped>\n",
       "    .dataframe tbody tr th:only-of-type {\n",
       "        vertical-align: middle;\n",
       "    }\n",
       "\n",
       "    .dataframe tbody tr th {\n",
       "        vertical-align: top;\n",
       "    }\n",
       "\n",
       "    .dataframe thead th {\n",
       "        text-align: right;\n",
       "    }\n",
       "</style>\n",
       "<table border=\"1\" class=\"dataframe\">\n",
       "  <thead>\n",
       "    <tr style=\"text-align: right;\">\n",
       "      <th></th>\n",
       "      <th>0</th>\n",
       "      <th>0</th>\n",
       "    </tr>\n",
       "  </thead>\n",
       "  <tbody>\n",
       "    <tr>\n",
       "      <th>0</th>\n",
       "      <td>2</td>\n",
       "      <td>2</td>\n",
       "    </tr>\n",
       "    <tr>\n",
       "      <th>1</th>\n",
       "      <td>2</td>\n",
       "      <td>2</td>\n",
       "    </tr>\n",
       "    <tr>\n",
       "      <th>2</th>\n",
       "      <td>1</td>\n",
       "      <td>1</td>\n",
       "    </tr>\n",
       "    <tr>\n",
       "      <th>3</th>\n",
       "      <td>0</td>\n",
       "      <td>0</td>\n",
       "    </tr>\n",
       "    <tr>\n",
       "      <th>4</th>\n",
       "      <td>2</td>\n",
       "      <td>1</td>\n",
       "    </tr>\n",
       "  </tbody>\n",
       "</table>\n",
       "</div>"
      ],
      "text/plain": [
       "   0  0\n",
       "0  2  2\n",
       "1  2  2\n",
       "2  1  1\n",
       "3  0  0\n",
       "4  2  1"
      ]
     },
     "execution_count": 26,
     "metadata": {},
     "output_type": "execute_result"
    }
   ],
   "source": [
    "x_pedicted_test_stacked = pd.concat([test_pred1, test_pred2], axis=1)\n",
    "x_pedicted_test_stacked.head()"
   ]
  },
  {
   "cell_type": "code",
   "execution_count": null,
   "id": "8c23dff0",
   "metadata": {},
   "outputs": [],
   "source": []
  },
  {
   "cell_type": "code",
   "execution_count": 27,
   "id": "1302dc68",
   "metadata": {},
   "outputs": [
    {
     "data": {
      "text/plain": [
       "True"
      ]
     },
     "execution_count": 27,
     "metadata": {},
     "output_type": "execute_result"
    }
   ],
   "source": [
    "y_train_pred1==y_train_pred2"
   ]
  },
  {
   "cell_type": "code",
   "execution_count": 28,
   "id": "c5d5abd0",
   "metadata": {},
   "outputs": [
    {
     "data": {
      "text/plain": [
       "LogisticRegression(max_iter=1000)"
      ]
     },
     "execution_count": 28,
     "metadata": {},
     "output_type": "execute_result"
    }
   ],
   "source": [
    "logit_model = LogisticRegression(max_iter=1000)\n",
    "logit_model.fit(x_train_predicted_stacked, y_train_pred1)"
   ]
  },
  {
   "cell_type": "markdown",
   "id": "38724ad0",
   "metadata": {},
   "source": [
    "## AS we can see our result has been improved using Stacking from 91% to 95.5%"
   ]
  },
  {
   "cell_type": "code",
   "execution_count": 29,
   "id": "38dfa651",
   "metadata": {},
   "outputs": [
    {
     "data": {
      "text/plain": [
       "0.9555555555555556"
      ]
     },
     "execution_count": 29,
     "metadata": {},
     "output_type": "execute_result"
    }
   ],
   "source": [
    "logit_model.score(x_pedicted_test_stacked, y_test)"
   ]
  },
  {
   "cell_type": "code",
   "execution_count": 30,
   "id": "ce3725fe",
   "metadata": {
    "scrolled": true
   },
   "outputs": [
    {
     "name": "stdout",
     "output_type": "stream",
     "text": [
      "[1, 0, 2, 2, 1, 2, 2, 1, 1, 0, 0, 0, 2, 0, 1, 2, 1, 2, 2, 1, 0, 1, 0, 2, 0, 2, 1, 2, 1, 1, 1, 0, 2, 2, 1, 1, 0, 0, 2, 1, 1, 2, 2, 0, 2, 1, 1, 2, 1, 2, 0, 0, 2, 0, 1, 2, 2, 2, 0, 2, 0, 0, 1, 1, 1, 1, 1, 2, 0, 1, 0, 0, 2, 2, 2, 2, 2, 1, 1, 2, 1, 0, 0, 0, 0, 2, 0, 1, 1, 0, 2, 1, 0, 2, 0, 2, 0, 0, 1, 2, 1, 0, 1, 2, 1]\n",
      "[1, 0, 2, 2, 1, 2, 2, 1, 1, 0, 0, 0, 2, 0, 1, 2, 1, 2, 2, 1, 0, 1, 0, 2, 0, 2, 1, 2, 1, 1, 1, 0, 2, 2, 1, 1, 0, 0, 2, 1, 1, 2, 2, 0, 2, 1, 1, 2, 1, 2, 0, 0, 2, 0, 1, 2, 2, 2, 0, 2, 0, 0, 1, 1, 1, 1, 1, 2, 0, 1, 0, 0, 2, 2, 2, 2, 2, 1, 1, 2, 1, 0, 0, 0, 0, 2, 0, 1, 1, 0, 2, 1, 0, 2, 0, 2, 0, 0, 1, 2, 1, 0, 1, 2, 1]\n"
     ]
    }
   ],
   "source": [
    "print(y_train_pred2)\n",
    "print(y_train_pred1)"
   ]
  },
  {
   "cell_type": "markdown",
   "id": "aec50641",
   "metadata": {},
   "source": [
    "### np.empty create empty array but with junks"
   ]
  },
  {
   "cell_type": "code",
   "execution_count": 31,
   "id": "5d85243d",
   "metadata": {},
   "outputs": [],
   "source": [
    "n= np.empty((55,1),dtype=int)"
   ]
  },
  {
   "cell_type": "code",
   "execution_count": 32,
   "id": "91fecae7",
   "metadata": {},
   "outputs": [
    {
     "data": {
      "text/plain": [
       "array([ -29930312,        293,        186,          0,          0,\n",
       "                0,          0,          0,          0,    6029423,\n",
       "       1868767867,  975332708, 1869768226, 1802707053, 1918985580,\n",
       "       1768697454, 1918985582, 1685024095, 1763732581, 1919905901,\n",
       "       1867260020, 1953720679, 1699898217, 1936028263, 1852795251,\n",
       "       1919315548, 1931505007, 1634036843, 1831759474, 1818584175,\n",
       "       1818587999, 1769235301, 1763733103, 1919905901, 1920213108,\n",
       "       1601071457, 1953719668, 1819308895, 1851552873, 1836020326,\n",
       "       1818981152, 1852989797, 1701998638, 1668248176, 1769173861,\n",
       "       1763731310, 1919905901, 1951604852, 1633971809, 1666409586,\n",
       "       1919249505, 1696738338, 1969448312, 1852795252, 1970234207,\n",
       "                1,          2,          3,         57,          8])"
      ]
     },
     "execution_count": 32,
     "metadata": {},
     "output_type": "execute_result"
    }
   ],
   "source": [
    "n=np.append(n,[1,2,3,57,8])\n",
    "n"
   ]
  },
  {
   "cell_type": "code",
   "execution_count": 33,
   "id": "4036eb69",
   "metadata": {},
   "outputs": [
    {
     "data": {
      "text/plain": [
       "array([ -29930312,        293,        186,          0,          0,\n",
       "                0,          0,          0,          0,    6029423,\n",
       "       1868767867,  975332708, 1869768226, 1802707053, 1918985580,\n",
       "       1768697454, 1918985582, 1685024095, 1763732581, 1919905901,\n",
       "       1867260020, 1953720679, 1699898217, 1936028263, 1852795251,\n",
       "       1919315548, 1931505007, 1634036843, 1831759474, 1818584175,\n",
       "       1818587999, 1769235301, 1763733103, 1919905901, 1920213108,\n",
       "       1601071457, 1953719668, 1819308895, 1851552873, 1836020326,\n",
       "       1818981152, 1852989797, 1701998638, 1668248176, 1769173861,\n",
       "       1763731310, 1919905901, 1951604852, 1633971809, 1666409586,\n",
       "       1919249505, 1696738338, 1969448312, 1852795252, 1970234207,\n",
       "                1,          2,          3,         57,          8,\n",
       "                1,        324,        546,         54,         65,\n",
       "               76,          8,          7,          8,        798,\n",
       "              654,         65,         45,         35,          3,\n",
       "               43,        423,          4,        234,        325,\n",
       "                4,          6])"
      ]
     },
     "execution_count": 33,
     "metadata": {},
     "output_type": "execute_result"
    }
   ],
   "source": [
    "np.append(n, [1,324,546,54,65,76,8,7,8,798,654,65,45,35,3,43,423,4,234,325,4,6])"
   ]
  },
  {
   "cell_type": "code",
   "execution_count": null,
   "id": "b75badb3",
   "metadata": {},
   "outputs": [],
   "source": []
  },
  {
   "cell_type": "code",
   "execution_count": null,
   "id": "3f03f448",
   "metadata": {},
   "outputs": [],
   "source": []
  },
  {
   "cell_type": "code",
   "execution_count": null,
   "id": "f9fda7d5",
   "metadata": {},
   "outputs": [],
   "source": []
  }
 ],
 "metadata": {
  "kernelspec": {
   "display_name": "Python 3",
   "language": "python",
   "name": "python3"
  },
  "language_info": {
   "codemirror_mode": {
    "name": "ipython",
    "version": 3
   },
   "file_extension": ".py",
   "mimetype": "text/x-python",
   "name": "python",
   "nbconvert_exporter": "python",
   "pygments_lexer": "ipython3",
   "version": "3.8.8"
  }
 },
 "nbformat": 4,
 "nbformat_minor": 5
}
