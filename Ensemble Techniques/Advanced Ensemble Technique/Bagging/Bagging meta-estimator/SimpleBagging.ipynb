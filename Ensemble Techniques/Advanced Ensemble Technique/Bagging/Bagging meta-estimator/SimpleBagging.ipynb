{
 "cells": [
  {
   "cell_type": "markdown",
   "id": "7f3e6412",
   "metadata": {},
   "source": [
    "# Meta-estimator Bagging"
   ]
  },
  {
   "cell_type": "code",
   "execution_count": 1,
   "id": "6a52d850",
   "metadata": {},
   "outputs": [],
   "source": [
    "import pandas as pd\n",
    "import numpy as np\n",
    "from sklearn.ensemble import BaggingClassifier\n",
    "from sklearn.neighbors import KNeighborsClassifier"
   ]
  },
  {
   "cell_type": "code",
   "execution_count": 40,
   "id": "be558ca8",
   "metadata": {},
   "outputs": [],
   "source": [
    "from sklearn.preprocessing import StandardScaler"
   ]
  },
  {
   "cell_type": "code",
   "execution_count": 2,
   "id": "c1b61422",
   "metadata": {},
   "outputs": [],
   "source": [
    "from sklearn.datasets import load_breast_cancer\n",
    "dataset = load_breast_cancer()\n",
    "X = dataset.data\n",
    "y = dataset.target"
   ]
  },
  {
   "cell_type": "code",
   "execution_count": 3,
   "id": "1b08db3d",
   "metadata": {},
   "outputs": [],
   "source": [
    "from sklearn.model_selection import train_test_split"
   ]
  },
  {
   "cell_type": "code",
   "execution_count": 4,
   "id": "edb450f1",
   "metadata": {},
   "outputs": [],
   "source": [
    "x_train, x_test, y_train, y_test = train_test_split(X,y)"
   ]
  },
  {
   "cell_type": "code",
   "execution_count": 5,
   "id": "73324e30",
   "metadata": {},
   "outputs": [
    {
     "data": {
      "text/plain": [
       "0.9090909090909091"
      ]
     },
     "execution_count": 5,
     "metadata": {},
     "output_type": "execute_result"
    }
   ],
   "source": [
    "knn = KNeighborsClassifier()\n",
    "knn.fit(x_train, y_train)\n",
    "knn.score(x_test, y_test)\n"
   ]
  },
  {
   "cell_type": "markdown",
   "id": "b19f9309",
   "metadata": {},
   "source": [
    "### lets use bagging for the same dataset"
   ]
  },
  {
   "cell_type": "code",
   "execution_count": 35,
   "id": "01739876",
   "metadata": {},
   "outputs": [
    {
     "name": "stderr",
     "output_type": "stream",
     "text": [
      "[Parallel(n_jobs=12)]: Using backend LokyBackend with 12 concurrent workers.\n",
      "[Parallel(n_jobs=12)]: Done   3 out of  12 | elapsed:    4.2s remaining:   12.7s\n",
      "[Parallel(n_jobs=12)]: Done  10 out of  12 | elapsed:    4.2s remaining:    0.8s\n",
      "[Parallel(n_jobs=12)]: Done  12 out of  12 | elapsed:    4.2s finished\n",
      "[Parallel(n_jobs=12)]: Using backend LokyBackend with 12 concurrent workers.\n",
      "[Parallel(n_jobs=12)]: Done   3 out of  12 | elapsed:    0.0s remaining:    0.0s\n",
      "[Parallel(n_jobs=12)]: Done  10 out of  12 | elapsed:    0.0s remaining:    0.0s\n",
      "[Parallel(n_jobs=12)]: Done  12 out of  12 | elapsed:    0.0s finished\n"
     ]
    },
    {
     "data": {
      "text/plain": [
       "0.9230769230769231"
      ]
     },
     "execution_count": 35,
     "metadata": {},
     "output_type": "execute_result"
    }
   ],
   "source": [
    "bgn_knn = BaggingClassifier(knn, n_estimators=50, random_state=5, max_samples=0.5, n_jobs=-1, oob_score=True,verbose=2)\n",
    "bgn_knn.fit(x_train, y_train)\n",
    "bgn_knn.score(x_test, y_test)"
   ]
  },
  {
   "cell_type": "code",
   "execution_count": 36,
   "id": "b6542f75",
   "metadata": {},
   "outputs": [
    {
     "data": {
      "text/plain": [
       "True"
      ]
     },
     "execution_count": 36,
     "metadata": {},
     "output_type": "execute_result"
    }
   ],
   "source": [
    "bgn_knn.bootstrap"
   ]
  },
  {
   "cell_type": "code",
   "execution_count": 37,
   "id": "109cec22",
   "metadata": {},
   "outputs": [
    {
     "data": {
      "text/plain": [
       "0.9436619718309859"
      ]
     },
     "execution_count": 37,
     "metadata": {},
     "output_type": "execute_result"
    }
   ],
   "source": [
    "bgn_knn.oob_score_"
   ]
  },
  {
   "cell_type": "code",
   "execution_count": 39,
   "id": "e8ef35a5",
   "metadata": {},
   "outputs": [
    {
     "data": {
      "text/plain": [
       "0.9090909090909091"
      ]
     },
     "execution_count": 39,
     "metadata": {},
     "output_type": "execute_result"
    }
   ],
   "source": [
    "#in pasting out of bag is not available\n",
    "pasting = BaggingClassifier(knn, n_estimators=10, bootstrap=False, max_samples=1.0)\n",
    "pasting.fit(x_train, y_train)\n",
    "pasting.score(x_test, y_test)"
   ]
  },
  {
   "cell_type": "code",
   "execution_count": 34,
   "id": "df7e6838",
   "metadata": {},
   "outputs": [
    {
     "data": {
      "text/plain": [
       "array([[ 17,  10, 122, ...,   0,   0,   0],\n",
       "       [ 20,  17, 132, ...,   0,   0,   0],\n",
       "       [ 19,  21, 130, ...,   0,   0,   0],\n",
       "       ...,\n",
       "       [ 16,  28, 108, ...,   0,   0,   0],\n",
       "       [ 20,  29, 140, ...,   0,   0,   0],\n",
       "       [  7,  24,  47, ...,   0,   0,   0]])"
      ]
     },
     "execution_count": 34,
     "metadata": {},
     "output_type": "execute_result"
    }
   ],
   "source": [
    "X.astype(int)"
   ]
  },
  {
   "cell_type": "markdown",
   "id": "80636f0b",
   "metadata": {},
   "source": [
    "## After using Standard SCalar"
   ]
  },
  {
   "cell_type": "code",
   "execution_count": 41,
   "id": "8cd25cdf",
   "metadata": {},
   "outputs": [],
   "source": [
    "X = StandardScaler().fit_transform(X)"
   ]
  },
  {
   "cell_type": "code",
   "execution_count": 42,
   "id": "3368f5d2",
   "metadata": {},
   "outputs": [],
   "source": [
    "x_train, x_test, y_train, y_test = train_test_split(X,y)"
   ]
  },
  {
   "cell_type": "code",
   "execution_count": null,
   "id": "2153d9a7",
   "metadata": {},
   "outputs": [],
   "source": []
  },
  {
   "cell_type": "code",
   "execution_count": 47,
   "id": "6dc0ab56",
   "metadata": {},
   "outputs": [
    {
     "name": "stdout",
     "output_type": "stream",
     "text": [
      "1 :  0.9230769230769231\n",
      "2 :  0.9230769230769231\n",
      "3 :  0.9230769230769231\n",
      "4 :  0.9300699300699301\n",
      "5 :  0.9230769230769231\n",
      "6 :  0.9300699300699301\n",
      "7 :  0.9300699300699301\n",
      "8 :  0.9300699300699301\n",
      "9 :  0.9300699300699301\n",
      "10 :  0.9300699300699301\n",
      "11 :  0.9300699300699301\n",
      "12 :  0.9300699300699301\n",
      "13 :  0.9230769230769231\n",
      "14 :  0.9230769230769231\n"
     ]
    }
   ],
   "source": [
    "for i in range(1,15):\n",
    "    bgn_knn = BaggingClassifier(base_estimator=KNeighborsClassifier(n_neighbors=i), n_estimators=20, max_samples=0.7,\n",
    "                                max_features=0.8, oob_score=True, n_jobs=-1)\n",
    "    bgn_knn.fit(x_train,y_train)\n",
    "    print(i,': ',bgn_knn.score(x_test, y_test))"
   ]
  },
  {
   "cell_type": "code",
   "execution_count": null,
   "id": "f1cc4ff7",
   "metadata": {},
   "outputs": [],
   "source": []
  },
  {
   "cell_type": "code",
   "execution_count": null,
   "id": "e8a8ff15",
   "metadata": {},
   "outputs": [],
   "source": []
  },
  {
   "cell_type": "code",
   "execution_count": null,
   "id": "088ba417",
   "metadata": {},
   "outputs": [],
   "source": []
  },
  {
   "cell_type": "code",
   "execution_count": null,
   "id": "7813a407",
   "metadata": {},
   "outputs": [],
   "source": []
  }
 ],
 "metadata": {
  "kernelspec": {
   "display_name": "Python 3",
   "language": "python",
   "name": "python3"
  },
  "language_info": {
   "codemirror_mode": {
    "name": "ipython",
    "version": 3
   },
   "file_extension": ".py",
   "mimetype": "text/x-python",
   "name": "python",
   "nbconvert_exporter": "python",
   "pygments_lexer": "ipython3",
   "version": "3.8.8"
  }
 },
 "nbformat": 4,
 "nbformat_minor": 5
}
